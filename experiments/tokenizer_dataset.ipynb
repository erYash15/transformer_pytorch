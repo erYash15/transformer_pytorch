{
 "cells": [
  {
   "cell_type": "code",
   "execution_count": 31,
   "metadata": {},
   "outputs": [],
   "source": [
    "import torch\n",
    "import torch.nn as nn\n",
    "from torch.utils.data import Dataset, DataLoader, random_split\n",
    "\n",
    "from datasets import load_dataset\n",
    "from tokenizers import Tokenizer\n",
    "from tokenizers.models import WordLevel\n",
    "from tokenizers.trainers import WordLevelTrainer\n",
    "from tokenizers.pre_tokenizers import Whitespace\n",
    "\n",
    "from pathlib import Path\n",
    "\n",
    "import torchmetrics\n",
    "from torch.utils.tensorboard import SummaryWriter\n",
    "from torchviz import make_dot\n",
    "from tqdm import tqdm"
   ]
  },
  {
   "cell_type": "code",
   "execution_count": 2,
   "metadata": {},
   "outputs": [],
   "source": [
    "import sys\n",
    "sys.path.append('../scripts')\n",
    "\n",
    "from model import build_transformer\n",
    "from utils import count_parameters\n",
    "from config import get_config, get_weights_file_path, latest_weights_file_path"
   ]
  },
  {
   "cell_type": "code",
   "execution_count": null,
   "metadata": {},
   "outputs": [],
   "source": []
  },
  {
   "cell_type": "code",
   "execution_count": 3,
   "metadata": {},
   "outputs": [],
   "source": [
    "def get_all_sentences(ds, lang):\n",
    "    for item in ds:\n",
    "        yield item['translation'][lang]"
   ]
  },
  {
   "cell_type": "code",
   "execution_count": 4,
   "metadata": {},
   "outputs": [
    {
     "name": "stdout",
     "output_type": "stream",
     "text": [
      "Bonjour\n",
      "Au revoir\n"
     ]
    }
   ],
   "source": [
    "# Example dataset\n",
    "dataset = [\n",
    "    {'id': 1, 'translation': {'en': 'Hello', 'fr': 'Bonjour'}},\n",
    "    {'id': 2, 'translation': {'en': 'Goodbye', 'fr': 'Au revoir'}}\n",
    "]\n",
    "\n",
    "# Define the generator function\n",
    "def get_all_sentences(ds, lang):\n",
    "    for item in ds:\n",
    "        yield item['translation'][lang]\n",
    "\n",
    "# Usage\n",
    "lang = 'fr'\n",
    "for sentence in get_all_sentences(dataset, lang):\n",
    "    print(sentence)"
   ]
  },
  {
   "cell_type": "code",
   "execution_count": 5,
   "metadata": {},
   "outputs": [],
   "source": [
    "def get_or_build_tokenizer(config, ds, lang):\n",
    "    tokenizer_path = Path(config['tokenizer_file'].format(lang))\n",
    "    if not Path.exists(tokenizer_path):\n",
    "        tokenizer = Tokenizer(WordLevel(unk_token=\"[UNK]\"))\n",
    "        tokenizer.pre_tokenizer = Whitespace()\n",
    "        trainer = WordLevelTrainer(special_tokens = [\"[UNK]\", \"[PAD]\", \"[SOS]\", \"[EOS]\"])\n",
    "        tokenizer.train_from_iterator(get_all_sentences(ds, lang), trainer=trainer)\n",
    "        tokenizer.save(str(tokenizer_path))\n",
    "    else:\n",
    "        tokenizer = Tokenizer.from_file(str(tokenizer_path))\n",
    "    return tokenizer\n"
   ]
  },
  {
   "cell_type": "code",
   "execution_count": 6,
   "metadata": {},
   "outputs": [
    {
     "name": "stdout",
     "output_type": "stream",
     "text": [
      "['Bonjour', 'tout', 'le', 'monde', '[UNK]']\n",
      "[5, 9, 7, 8, 0]\n"
     ]
    }
   ],
   "source": [
    "# Example config\n",
    "config = {\n",
    "    'tokenizer_file': 'tokenizer_{}.json'\n",
    "}\n",
    "\n",
    "# Example dataset\n",
    "dataset = [\n",
    "    {'id': 1, 'translation': {'en': 'Hello world', 'fr': 'Bonjour tout le monde'}},\n",
    "    {'id': 2, 'translation': {'en': 'How are you?', 'fr': 'Comment ça va ?'}}\n",
    "]\n",
    "\n",
    "# Example usage\n",
    "lang = 'fr'\n",
    "tokenizer = get_or_build_tokenizer(config, dataset, lang)\n",
    "print(tokenizer.encode(\"Bonjour tout le monde yash\").tokens)\n",
    "print(tokenizer.encode(\"Bonjour tout le monde yash\").ids)"
   ]
  },
  {
   "cell_type": "code",
   "execution_count": 7,
   "metadata": {},
   "outputs": [],
   "source": [
    "class BilingualDataset(Dataset):\n",
    "    def __init__(self, ds, tokenizer_src, tokenizer_tgt, src_lang, tgt_lang, seq_len) -> None:\n",
    "        super().__init__()\n",
    "        self.ds = ds\n",
    "        self.tokenizer_src = tokenizer_src\n",
    "        self.tokenizer_tgt = tokenizer_tgt\n",
    "        self.src_lang = src_lang\n",
    "        self.tgt_lang = tgt_lang\n",
    "        self.seq_len = seq_len\n",
    "\n",
    "        # since all these token for both lang remain same we can use tokenizer_tgt or tokenizer_src\n",
    "        self.sos_token = torch.tensor([tokenizer_tgt.token_to_id(\"[SOS]\")], dtype=torch.int64)\n",
    "        self.eos_token = torch.tensor([tokenizer_tgt.token_to_id(\"[EOS]\")], dtype=torch.int64)\n",
    "        self.pad_token = torch.tensor([tokenizer_tgt.token_to_id(\"[PAD]\")], dtype=torch.int64)\n",
    "\n",
    "    @staticmethod\n",
    "    def causal_mask(size):\n",
    "        mask = torch.triu(torch.ones(1, size, size), diagonal=1).type(torch.int)\n",
    "        return mask == 0\n",
    "\n",
    "    def __len__(self):\n",
    "        return len(self.ds)\n",
    "    \n",
    "    def __getitem__(self, index):\n",
    "        src_target_pair = self.ds[index]\n",
    "        src_text = src_target_pair['translation'][self.src_lang]\n",
    "        tgt_text = src_target_pair['translation'][self.tgt_lang]\n",
    "        \n",
    "        enc_input_tokens = self.tokenizer_src.encode(src_text).ids\n",
    "        dec_input_tokens = self.tokenizer_tgt.encode(tgt_text).ids\n",
    "\n",
    "        enc_num_padding_tokens = self.seq_len - len(enc_input_tokens) - 2 # SOS and EOS\n",
    "        dec_num_padding_tokens = self.seq_len - len(dec_input_tokens) - 1 # no EOS or SOS\n",
    "\n",
    "        if enc_num_padding_tokens < 0:\n",
    "            raise ValueError('Sentence is too long')\n",
    "        \n",
    "        # add SOS and EOS to the source text\n",
    "        encoder_input = torch.cat(\n",
    "            [\n",
    "                self.sos_token,\n",
    "                torch.tensor(enc_input_tokens, dtype = torch.int64),\n",
    "                self.eos_token,\n",
    "                torch.tensor([self.pad_token] * enc_num_padding_tokens, dtype = torch.int64)\n",
    "            ]   \n",
    "        )\n",
    "\n",
    "        decoder_input = torch.cat(\n",
    "            [\n",
    "                self.sos_token,\n",
    "                torch.tensor(dec_input_tokens, dtype = torch.int64),\n",
    "                torch.tensor([self.pad_token] * dec_num_padding_tokens, dtype = torch.int64)\n",
    "            ]   \n",
    "        )\n",
    "\n",
    "        label = torch.cat(\n",
    "            [\n",
    "                torch.tensor(dec_input_tokens, dtype = torch.int64),\n",
    "                self.eos_token,\n",
    "                torch.tensor([self.pad_token] * dec_num_padding_tokens, dtype = torch.int64)\n",
    "            ]   \n",
    "        )\n",
    "\n",
    "        assert encoder_input.size(0) == self.seq_len\n",
    "        assert decoder_input.size(0) == self.seq_len\n",
    "        assert label.size(0) == self.seq_len\n",
    "\n",
    "        return {\n",
    "            \"encoder_input\": encoder_input, #seq_len\n",
    "            \"decoder_input\": decoder_input, #seq_len\n",
    "            \"encoder_mask\": (encoder_input != self.pad_token).unsqueeze(0).int(), # (1, 1, seq_len)\n",
    "            \"decoder_mask\": (decoder_input != self.pad_token).unsqueeze(0).int() & BilingualDataset.causal_mask(decoder_input.size(0)), # (1,seq_len) & (1, seq_len, seq_len)\n",
    "            \"label\": label,\n",
    "            \"src_text\": src_text,\n",
    "            \"tgt_text\": tgt_text\n",
    "        }"
   ]
  },
  {
   "cell_type": "code",
   "execution_count": 8,
   "metadata": {},
   "outputs": [
    {
     "name": "stdout",
     "output_type": "stream",
     "text": [
      "Encoder Input: torch.Size([1, 10])\n",
      "Decoder Input: torch.Size([1, 10])\n",
      "Encoder Mask: torch.Size([1, 1, 10])\n",
      "Decoder Mask: torch.Size([1, 1, 10, 10])\n",
      "Label: torch.Size([1, 10])\n",
      "Source Text: ['Hello world']\n",
      "Target Text: ['Bonjour tout le monde']\n",
      "---\n",
      "Encoder Input: torch.Size([1, 10])\n",
      "Decoder Input: torch.Size([1, 10])\n",
      "Encoder Mask: torch.Size([1, 1, 10])\n",
      "Decoder Mask: torch.Size([1, 1, 10, 10])\n",
      "Label: torch.Size([1, 10])\n",
      "Source Text: ['How are you?']\n",
      "Target Text: ['Comment ça va ?']\n",
      "---\n"
     ]
    }
   ],
   "source": [
    "# Example dataset\n",
    "dataset = [\n",
    "    {'id': 1, 'translation': {'en': 'Hello world', 'fr': 'Bonjour tout le monde'}},\n",
    "    {'id': 2, 'translation': {'en': 'How are you?', 'fr': 'Comment ça va ?'}}\n",
    "]\n",
    "\n",
    "# Example config\n",
    "config = {\n",
    "    'tokenizer_file': 'tokenizer_{0}.json'\n",
    "}\n",
    "\n",
    "tokenizer_src = get_or_build_tokenizer(config, dataset, \"en\")\n",
    "tokenizer_tgt = get_or_build_tokenizer(config, dataset, \"fr\")\n",
    "\n",
    "# Example usage\n",
    "lang = 'fr'\n",
    "bilingual_dataset = BilingualDataset(dataset, tokenizer_src, tokenizer_tgt, 'en', lang, 10)\n",
    "\n",
    "# Create a DataLoader for batching the data\n",
    "dataloader = DataLoader(bilingual_dataset, batch_size=1, shuffle=True)\n",
    "\n",
    "# Iterate over the DataLoader to print batches\n",
    "for batch in dataloader:\n",
    "    print(\"Encoder Input:\", batch[\"encoder_input\"].shape)\n",
    "    print(\"Decoder Input:\", batch[\"decoder_input\"].shape)\n",
    "    print(\"Encoder Mask:\", batch[\"encoder_mask\"].shape)\n",
    "    print(\"Decoder Mask:\", batch[\"decoder_mask\"].shape)\n",
    "    print(\"Label:\", batch[\"label\"].shape)\n",
    "    print(\"Source Text:\", batch[\"src_text\"])\n",
    "    print(\"Target Text:\", batch[\"tgt_text\"])\n",
    "    print(\"---\")"
   ]
  },
  {
   "cell_type": "code",
   "execution_count": 9,
   "metadata": {},
   "outputs": [],
   "source": [
    "def get_ds(config):\n",
    "    ds_raw = load_dataset('opus_books', f'{config[\"lang_src\"]}-{config[\"lang_tgt\"]}', split='train')\n",
    "    # build tokenizers\n",
    "    tokenizer_src = get_or_build_tokenizer(config, ds_raw, config['lang_src'])\n",
    "    tokenizer_tgt = get_or_build_tokenizer(config, ds_raw, config['lang_tgt'])\n",
    "    # keep 90% for training and 10% for validation\n",
    "    train_ds_size = int(0.9 * len(ds_raw))\n",
    "    val_ds_size = len(ds_raw) - train_ds_size\n",
    "    train_ds_raw, val_ds_raw = random_split(ds_raw, [train_ds_size, val_ds_size])\n",
    "\n",
    "    train_ds = BilingualDataset(\n",
    "        train_ds_raw, \n",
    "        tokenizer_src, \n",
    "        tokenizer_tgt, \n",
    "        config['lang_src'], \n",
    "        config['lang_tgt'], \n",
    "        config['seq_len']\n",
    "    )\n",
    "    val_ds = BilingualDataset(\n",
    "        val_ds_raw, \n",
    "        tokenizer_src, \n",
    "        tokenizer_tgt, \n",
    "        config['lang_src'], \n",
    "        config['lang_tgt'], \n",
    "        config['seq_len']\n",
    "    )\n",
    "\n",
    "    max_len_src = 0\n",
    "    max_len_tgt = 0\n",
    "    \n",
    "    for item in ds_raw:\n",
    "        src_ids = tokenizer_src.encode(item['translation'][config['lang_src']]).ids\n",
    "        tgt_ids = tokenizer_tgt.encode(item['translation'][config['lang_src']]).ids\n",
    "        \n",
    "        max_len_src = max(max_len_src, len(src_ids))\n",
    "        max_len_tgt = max(max_len_tgt, len(tgt_ids))\n",
    "\n",
    "    print(f\"Max length for source senstences: {max_len_src}\")\n",
    "    print(f\"Max length for target senstences: {max_len_tgt}\")\n",
    "\n",
    "    train_dataloader = DataLoader(train_ds, batch_size=config['batch_size'], shuffle=True)\n",
    "    val_dataloader = DataLoader(val_ds, batch_size=1, shuffle=False)\n",
    "\n",
    "    return train_dataloader, val_dataloader, tokenizer_src, tokenizer_tgt\n",
    "    "
   ]
  },
  {
   "cell_type": "code",
   "execution_count": 10,
   "metadata": {},
   "outputs": [
    {
     "name": "stdout",
     "output_type": "stream",
     "text": [
      "Max length for source senstences: 309\n",
      "Max length for target senstences: 309\n",
      "Train Dataset Size: 29098\n",
      "Validation Dataset Size: 3234\n",
      "Source Language Tokenizer Vocabulary Size: 25138\n",
      "Target Language Tokenizer Vocabulary Size: 30000\n",
      "Encoder Input Shape: torch.Size([32, 500])\n",
      "Decoder Input Shape: torch.Size([32, 500])\n",
      "Encoder Mask Shape: torch.Size([32, 1, 500])\n",
      "Decoder Mask Shape: torch.Size([32, 1, 500, 500])\n",
      "Label Shape: torch.Size([32, 500])\n",
      "---\n"
     ]
    }
   ],
   "source": [
    "config = {\n",
    "    'lang_src': 'en',\n",
    "    'lang_tgt': 'it',\n",
    "    'seq_len': 500,\n",
    "    'batch_size': 32,\n",
    "    'tokenizer_file': 'tokenizer_{0}.json'\n",
    "}\n",
    "\n",
    "train_dataloader, val_dataloader, tokenizer_src, tokenizer_tgt = get_ds(config)\n",
    "\n",
    "# Print some information about the datasets and tokenizers\n",
    "print(f\"Train Dataset Size: {len(train_dataloader.dataset)}\")\n",
    "print(f\"Validation Dataset Size: {len(val_dataloader.dataset)}\")\n",
    "print(f\"Source Language Tokenizer Vocabulary Size: {len(tokenizer_src.get_vocab())}\")\n",
    "print(f\"Target Language Tokenizer Vocabulary Size: {len(tokenizer_tgt.get_vocab())}\")\n",
    "\n",
    "# Iterate over a few batches from the dataloaders to check the data\n",
    "for batch in train_dataloader:\n",
    "    print(\"Encoder Input Shape:\", batch[\"encoder_input\"].shape)\n",
    "    print(\"Decoder Input Shape:\", batch[\"decoder_input\"].shape)\n",
    "    print(\"Encoder Mask Shape:\", batch[\"encoder_mask\"].shape)\n",
    "    print(\"Decoder Mask Shape:\", batch[\"decoder_mask\"].shape)\n",
    "    print(\"Label Shape:\", batch[\"label\"].shape)\n",
    "    print(\"---\")\n",
    "    break  # Stop after printing the first batch"
   ]
  },
  {
   "cell_type": "code",
   "execution_count": 11,
   "metadata": {},
   "outputs": [],
   "source": [
    "def get_model(config, vocab_src_len, vocab_tgt_len):\n",
    "    model = build_transformer(vocab_src_len, vocab_tgt_len, config['seq_len'], config['seq_len'], config['d_model'])\n",
    "    return model"
   ]
  },
  {
   "cell_type": "code",
   "execution_count": 12,
   "metadata": {},
   "outputs": [],
   "source": [
    "config  = {\n",
    "    'seq_len': 500,\n",
    "    'd_model': 512,\n",
    "}\n",
    "vocab_src_len = 512\n",
    "vocab_tgt_len = 512\n",
    "\n",
    "model = get_model(config, vocab_src_len, vocab_tgt_len)\n"
   ]
  },
  {
   "cell_type": "code",
   "execution_count": 16,
   "metadata": {},
   "outputs": [
    {
     "name": "stdout",
     "output_type": "stream",
     "text": [
      "Using Device: cuda\n",
      "Max length for source senstences: 309\n",
      "Max length for target senstences: 309\n",
      "None\n"
     ]
    }
   ],
   "source": [
    "# def train_model(config):\n",
    "# Define the Device\n",
    "device = torch.device('cuda' if torch.cuda.is_available() else 'cpu')\n",
    "print(\"Using Device:\", device)\n",
    "\n",
    "# Make sure the weights folder exists\n",
    "Path(f\"{config['datasource']}_{config['model_folder']}\").mkdir(parents=True, exist_ok=True)\n",
    "\n",
    "train_dataloader, val_dataloader, tokenizer_src, tokenizer_tgt = get_ds(config)\n",
    "\n",
    "model = get_model(\n",
    "    config, \n",
    "    tokenizer_src.get_vocab_size(), \n",
    "    tokenizer_tgt.get_vocab_size()\n",
    ").to(device)\n",
    "\n",
    "# Tensorboard\n",
    "writer = SummaryWriter(config['experiment_name'])\n",
    "\n",
    "optimizer = torch.optim.Adam(model.parameters(), lr=config['lr'], eps=1e-9)\n",
    "\n",
    "    # If the user specified a model to preload before training, load it\n",
    "initial_epoch = 0\n",
    "global_step = 0\n",
    "preload = config['preload']\n",
    "model_filename = latest_weights_file_path(config) if preload == 'latest' else get_weights_file_path(config, preload) if preload else None\n",
    "\n",
    "print(model_filename)\n"
   ]
  },
  {
   "cell_type": "code",
   "execution_count": 17,
   "metadata": {},
   "outputs": [
    {
     "name": "stdout",
     "output_type": "stream",
     "text": [
      "No model to preload, starting from scratch\n"
     ]
    }
   ],
   "source": [
    "if model_filename:\n",
    "    print(f'Preloading model {model_filename}')\n",
    "    state = torch.load(model_filename)\n",
    "    model.load_state_dict(state['model_state_dict'])\n",
    "    initial_epoch = state['epoch'] + 1\n",
    "    optimizer.load_state_dict(state['optimizer_state_dict'])\n",
    "    global_step = state['global_step']\n",
    "else:\n",
    "    print('No model to preload, starting from scratch')"
   ]
  },
  {
   "cell_type": "code",
   "execution_count": 18,
   "metadata": {},
   "outputs": [],
   "source": [
    "loss_fn = nn.CrossEntropyLoss(ignore_index=tokenizer_src.token_to_id('[PAD]'), label_smoothing=0.1).to(device)"
   ]
  },
  {
   "cell_type": "code",
   "execution_count": 27,
   "metadata": {},
   "outputs": [],
   "source": [
    "# Example tensors\n",
    "logits = torch.tensor([[2.0, 0.5, -0.5], [0.1, 1.0, -1.0], [0.2, 0.3, 0.8]], dtype=torch.float32)\n",
    "targets = torch.tensor([0, 1, 2], dtype=torch.int64)\n",
    "\n",
    "# Calculate the loss\n",
    "loss = loss_fn(logits, targets)"
   ]
  },
  {
   "cell_type": "code",
   "execution_count": 33,
   "metadata": {},
   "outputs": [
    {
     "name": "stderr",
     "output_type": "stream",
     "text": [
      "Processing Epoch 00:   0%|          | 0/3638 [00:00<?, ?it/s]"
     ]
    }
   ],
   "source": [
    "epoch = 0\n",
    "batch_iterator = tqdm(train_dataloader, desc=f\"Processing Epoch {epoch:02d}\")"
   ]
  },
  {
   "cell_type": "code",
   "execution_count": 45,
   "metadata": {},
   "outputs": [
    {
     "name": "stderr",
     "output_type": "stream",
     "text": [
      "  0%|          | 0/3638 [00:00<?, ?it/s]"
     ]
    },
    {
     "name": "stdout",
     "output_type": "stream",
     "text": [
      "dict_keys(['encoder_input', 'decoder_input', 'encoder_mask', 'decoder_mask', 'label', 'src_text', 'tgt_text'])\n",
      "encoder_input_torch.Size([8, 350])\n",
      "decoder_input_torch.Size([8, 350])\n",
      "encoder_mask_torch.Size([8, 1, 350])\n",
      "decoder_masktorch.Size([8, 1, 350, 350])\n",
      "labeltorch.Size([8, 350])\n",
      "src_text_8\n",
      "tgt_text_8\n"
     ]
    },
    {
     "name": "stderr",
     "output_type": "stream",
     "text": [
      "\n"
     ]
    }
   ],
   "source": [
    "total_batches = 0\n",
    "for batch in tqdm(batch_iterator):\n",
    "    print(batch.keys())\n",
    "    print(f\"encoder_input_{batch['encoder_input'].shape}\")\n",
    "    print(f\"decoder_input_{batch['decoder_input'].shape}\")\n",
    "    print(f\"encoder_mask_{batch['encoder_mask'].shape}\")\n",
    "    print(f\"decoder_mask{batch['decoder_mask'].shape}\")\n",
    "    print(f\"label{batch['label'].shape}\")\n",
    "    print(f\"src_text_{len(batch['src_text'])}\")\n",
    "    print(f\"tgt_text_{len(batch['tgt_text'])}\")\n",
    "    break"
   ]
  },
  {
   "cell_type": "code",
   "execution_count": 46,
   "metadata": {},
   "outputs": [
    {
     "name": "stderr",
     "output_type": "stream",
     "text": [
      "Processing Epoch 00:   0%|          | 0/3638 [00:06<?, ?it/s]\n"
     ]
    },
    {
     "ename": "RuntimeError",
     "evalue": "CUDA error: device-side assert triggered\nCUDA kernel errors might be asynchronously reported at some other API call, so the stacktrace below might be incorrect.\nFor debugging consider passing CUDA_LAUNCH_BLOCKING=1.\nCompile with `TORCH_USE_CUDA_DSA` to enable device-side assertions.\n",
     "output_type": "error",
     "traceback": [
      "\u001b[1;31m---------------------------------------------------------------------------\u001b[0m",
      "\u001b[1;31mRuntimeError\u001b[0m                              Traceback (most recent call last)",
      "Cell \u001b[1;32mIn[46], line 20\u001b[0m\n\u001b[0;32m     17\u001b[0m proj_output \u001b[38;5;241m=\u001b[39m model\u001b[38;5;241m.\u001b[39mproject(decoder_output) \u001b[38;5;66;03m# (B, seq_len, vocab_size)\u001b[39;00m\n\u001b[0;32m     19\u001b[0m \u001b[38;5;66;03m# Compare the output with the label\u001b[39;00m\n\u001b[1;32m---> 20\u001b[0m label \u001b[38;5;241m=\u001b[39m \u001b[43mbatch\u001b[49m\u001b[43m[\u001b[49m\u001b[38;5;124;43m'\u001b[39;49m\u001b[38;5;124;43mlabel\u001b[39;49m\u001b[38;5;124;43m'\u001b[39;49m\u001b[43m]\u001b[49m\u001b[38;5;241;43m.\u001b[39;49m\u001b[43mto\u001b[49m\u001b[43m(\u001b[49m\u001b[43mdevice\u001b[49m\u001b[43m)\u001b[49m \u001b[38;5;66;03m# (B, seq_len)\u001b[39;00m\n\u001b[0;32m     22\u001b[0m \u001b[38;5;66;03m# Compute the loss using a simple cross entropy\u001b[39;00m\n\u001b[0;32m     23\u001b[0m loss \u001b[38;5;241m=\u001b[39m loss_fn(proj_output\u001b[38;5;241m.\u001b[39mview(\u001b[38;5;241m-\u001b[39m\u001b[38;5;241m1\u001b[39m, tokenizer_tgt\u001b[38;5;241m.\u001b[39mget_vocab_size()), label\u001b[38;5;241m.\u001b[39mview(\u001b[38;5;241m-\u001b[39m\u001b[38;5;241m1\u001b[39m))\n",
      "\u001b[1;31mRuntimeError\u001b[0m: CUDA error: device-side assert triggered\nCUDA kernel errors might be asynchronously reported at some other API call, so the stacktrace below might be incorrect.\nFor debugging consider passing CUDA_LAUNCH_BLOCKING=1.\nCompile with `TORCH_USE_CUDA_DSA` to enable device-side assertions.\n"
     ]
    }
   ],
   "source": [
    "# for epoch in range(initial_epoch, config['num_epochs']):\n",
    "    \n",
    "#     torch.cuda.empty_cache()\n",
    "#     model.train()\n",
    "#     batch_iterator = tqdm(train_dataloader, desc=f\"Processing Epoch {epoch:02d}\")\n",
    "    \n",
    "#     for batch in batch_iterator:\n",
    "\n",
    "#         encoder_input = batch['encoder_input'].to(device) # (b, seq_len)\n",
    "#         decoder_input = batch['decoder_input'].to(device) # (B, seq_len)\n",
    "#         encoder_mask = batch['encoder_mask'].to(device) # (B, 1, 1, seq_len)\n",
    "#         decoder_mask = batch['decoder_mask'].to(device) # (B, 1, seq_len, seq_len)\n",
    "\n",
    "#         # Run the tensors through the encoder, decoder and the projection layer\n",
    "#         encoder_output = model.encode(encoder_input, encoder_mask) # (B, seq_len, d_model)\n",
    "#         decoder_output = model.decode(encoder_output, encoder_mask, decoder_input, decoder_mask) # (B, seq_len, d_model)\n",
    "#         proj_output = model.project(decoder_output) # (B, seq_len, vocab_size)\n",
    "\n",
    "#         # Compare the output with the label\n",
    "#         label = batch['label'].to(device) # (B, seq_len)\n",
    "\n",
    "#         # Compute the loss using a simple cross entropy\n",
    "#         loss = loss_fn(proj_output.view(-1, tokenizer_tgt.get_vocab_size()), label.view(-1))\n",
    "#         batch_iterator.set_postfix({\"loss\": f\"{loss.item():6.3f}\"})\n",
    "\n",
    "#         # Log the loss\n",
    "#         writer.add_scalar('train loss', loss.item(), global_step)\n",
    "#         writer.flush()\n",
    "\n",
    "#         # Backpropagate the loss\n",
    "#         loss.backward()\n",
    "\n",
    "#         # Update the weights\n",
    "#         optimizer.step()\n",
    "#         optimizer.zero_grad(set_to_none=True)\n",
    "\n",
    "#         global_step += 1"
   ]
  },
  {
   "cell_type": "code",
   "execution_count": null,
   "metadata": {},
   "outputs": [],
   "source": []
  },
  {
   "cell_type": "code",
   "execution_count": null,
   "metadata": {},
   "outputs": [],
   "source": []
  },
  {
   "cell_type": "code",
   "execution_count": null,
   "metadata": {},
   "outputs": [],
   "source": []
  }
 ],
 "metadata": {
  "kernelspec": {
   "display_name": "pyf_venv",
   "language": "python",
   "name": "python3"
  },
  "language_info": {
   "codemirror_mode": {
    "name": "ipython",
    "version": 3
   },
   "file_extension": ".py",
   "mimetype": "text/x-python",
   "name": "python",
   "nbconvert_exporter": "python",
   "pygments_lexer": "ipython3",
   "version": "3.12.3"
  }
 },
 "nbformat": 4,
 "nbformat_minor": 2
}
